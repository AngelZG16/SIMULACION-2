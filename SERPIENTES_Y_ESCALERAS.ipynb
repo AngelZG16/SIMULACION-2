{
  "nbformat": 4,
  "nbformat_minor": 0,
  "metadata": {
    "colab": {
      "provenance": [],
      "authorship_tag": "ABX9TyM7KuvNFTsr5EygojpdEE4K",
      "include_colab_link": true
    },
    "kernelspec": {
      "name": "python3",
      "display_name": "Python 3"
    },
    "language_info": {
      "name": "python"
    }
  },
  "cells": [
    {
      "cell_type": "markdown",
      "metadata": {
        "id": "view-in-github",
        "colab_type": "text"
      },
      "source": [
        "<a href=\"https://colab.research.google.com/github/AngelZG16/SIMULACION-2/blob/main/SERPIENTES_Y_ESCALERAS.ipynb\" target=\"_parent\"><img src=\"https://colab.research.google.com/assets/colab-badge.svg\" alt=\"Open In Colab\"/></a>"
      ]
    },
    {
      "cell_type": "markdown",
      "source": [
        "# SERPIENTES Y ESCALERAS"
      ],
      "metadata": {
        "id": "F8LHPhv9Edww"
      }
    },
    {
      "cell_type": "code",
      "source": [
        "import random\n",
        "\n",
        "def lanzamiento_dado():\n",
        "    return random.randint(1, 6)\n",
        "\n",
        "def siguiente_posicion(posicion_actual):\n",
        "    escaleras = {15: 19, 3: 11}\n",
        "    serpientes = {17: 10, 13: 4}\n",
        "\n",
        "\n",
        "    nueva_posicion = posicion_actual + lanzamiento_dado()\n",
        "    if nueva_posicion in escaleras:\n",
        "        nueva_posicion = escaleras[nueva_posicion]\n",
        "    elif nueva_posicion in serpientes:\n",
        "        nueva_posicion = serpientes[nueva_posicion]\n",
        "\n",
        "    return nueva_posicion\n",
        "\n",
        "def simular_juego():\n",
        "    posicion_actual = 0\n",
        "    lanzamientos = 0\n",
        "\n",
        "    while posicion_actual < 20:\n",
        "        lanzamientos += 1\n",
        "        posicion_actual = siguiente_posicion(posicion_actual)\n",
        "\n",
        "    return lanzamientos\n",
        "\n",
        "def simulacion(num_intentos):\n",
        "    total_lanzamientos = 0\n",
        "\n",
        "    for _ in range(num_intentos):\n",
        "        total_lanzamientos += simular_juego()\n",
        "\n",
        "    return total_lanzamientos / num_intentos\n",
        "num_intentos = 10000\n",
        "\n",
        "\n",
        "valor_esperado_simulacion = simulacion(num_intentos)\n",
        "print(\"Valor esperado por simulación:\", valor_esperado_simulacion)"
      ],
      "metadata": {
        "colab": {
          "base_uri": "https://localhost:8080/"
        },
        "id": "b4ElZlLmzvmR",
        "outputId": "91535a4b-7cbc-4968-91c0-ee38b2e62ae4"
      },
      "execution_count": null,
      "outputs": [
        {
          "output_type": "stream",
          "name": "stdout",
          "text": [
            "Valor esperado por simulación: 7.0651\n"
          ]
        }
      ]
    },
    {
      "cell_type": "markdown",
      "source": [],
      "metadata": {
        "id": "T-97CZ3fCvYV"
      }
    }
  ]
}