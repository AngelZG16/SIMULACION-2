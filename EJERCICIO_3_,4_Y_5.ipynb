{
  "nbformat": 4,
  "nbformat_minor": 0,
  "metadata": {
    "colab": {
      "provenance": [],
      "authorship_tag": "ABX9TyNWfiB/cXczMuKxU3MToDKr",
      "include_colab_link": true
    },
    "kernelspec": {
      "name": "python3",
      "display_name": "Python 3"
    },
    "language_info": {
      "name": "python"
    }
  },
  "cells": [
    {
      "cell_type": "markdown",
      "metadata": {
        "id": "view-in-github",
        "colab_type": "text"
      },
      "source": [
        "<a href=\"https://colab.research.google.com/github/AngelZG16/SIMULACION-2/blob/main/EJERCICIO_3_%2C4_Y_5.ipynb\" target=\"_parent\"><img src=\"https://colab.research.google.com/assets/colab-badge.svg\" alt=\"Open In Colab\"/></a>"
      ]
    },
    {
      "cell_type": "markdown",
      "source": [
        "4.-Realice una prueba de uniformidad χ\n",
        "\n",
        "2 a los números de la tabla siguiente, con un\n",
        "\n",
        "nivel de aceptación del 95 %"
      ],
      "metadata": {
        "id": "2hzNRd-BptK-"
      }
    },
    {
      "cell_type": "code",
      "execution_count": 11,
      "metadata": {
        "colab": {
          "base_uri": "https://localhost:8080/"
        },
        "id": "fdh39_rG-W10",
        "outputId": "4abcc332-63d1-4b2c-fd3a-1728a0154a0b"
      },
      "outputs": [
        {
          "output_type": "stream",
          "name": "stdout",
          "text": [
            "Valor P = 0.9999999999800929\n",
            "Estadistico de prueba  4.302095964227875\n",
            "grados de libertad  36\n"
          ]
        }
      ],
      "source": [
        "from math import *\n",
        "from scipy.stats import chi2_contingency\n",
        "import numpy as np\n",
        "\n",
        "\n",
        "tab_data =np.array( [[0.8797 , 0.3884 , 0.6289 , 0.8750 , 0.5999 , 0.8589 , 0.9996 , 0.2415 , 0.3808 , 0.9606],\n",
        "[0.9848 , 0.3469 , 0.7977 , 0.5844 , 0.8147 , 0.6431 , 0.7387 , 0.5613 , 0.0318 , 0.7401],\n",
        "[0.4557 , 0.1592 , 0.8536 , 0.8846 , 0.3410 , 0.1492 , 0.8681 , 0.5291 , 0.3188 , 0.5992],\n",
        "[0.9170 , 0.2204 , 0.5991 , 0.5461 , 0.5739 , 0.3254 , 0.0856 , 0.2258 , 0.4603 , 0.5027],\n",
        "[0.8376 , 0.6235 , 0.3681 , 0.2088 , 0.1525 , 0.2006 , 0.4720 , 0.4272 , 0.6360 , 0.0954]])\n",
        "\n",
        "\n",
        "print(\"Valor P =\",chi2_contingency(tab_data)[1])\n",
        "\n",
        "print(\"Estadistico de prueba \",chi2_contingency(tab_data)[0])\n",
        "print(\"grados de libertad \",chi2_contingency(tab_data)[2])\n"
      ]
    },
    {
      "cell_type": "markdown",
      "source": [
        "3. Realice una prueba de uniformidad χ\n",
        "\n",
        "2 a los números de la tabla siguiente, con un\n",
        "\n",
        "nivel de aceptación del 95 %  \n"
      ],
      "metadata": {
        "id": "iiHZuBaape63"
      }
    },
    {
      "cell_type": "code",
      "source": [
        "\n",
        "from math import *\n",
        "from scipy.stats import chi2_contingency\n",
        "import numpy as np\n",
        "\n",
        "tab_data = np.array(\n",
        "[[38, 33, 25, 5, 69 , 35 , 98 , 52 , 12 , 79],\n",
        "[50,46,95,42,49,11,78,34, 2 , 43],\n",
        "[ 7,50, 5,91,77,18, 21,  4, 17, 62],\n",
        "[91, 36, 48, 88, 52, 76, 99, 73, 82, 90]])\n",
        "\n",
        "\n",
        "print(\"Valor P =\",chi2_contingency(tab_data)[1])\n",
        "\n",
        "print(\"Estadistico de prueba \",chi2_contingency(tab_data)[0])\n",
        "print(\"grados de libertad \",chi2_contingency(tab_data)[2])\n"
      ],
      "metadata": {
        "colab": {
          "base_uri": "https://localhost:8080/"
        },
        "id": "A_SBxbPsoEr5",
        "outputId": "da2384cc-b6cd-49e4-9e11-841308f6d60d"
      },
      "execution_count": 8,
      "outputs": [
        {
          "output_type": "stream",
          "name": "stdout",
          "text": [
            "Valor P = 8.020783856119677e-98\n",
            "Estadistico de prueba  544.9025107624133\n",
            "grados de libertad  27\n"
          ]
        }
      ]
    },
    {
      "cell_type": "markdown",
      "source": [
        "5. Escriba un programa en Python para realizar la prueba χ\n",
        "2"
      ],
      "metadata": {
        "id": "VWv7P3AyqMkm"
      }
    },
    {
      "cell_type": "code",
      "source": [
        "from math import *\n",
        "from scipy.stats import chi2_contingency\n",
        "import numpy as np\n",
        "\n",
        "\n",
        "tab_data = [[203,150,190,305],[195,170,250,400]]\n",
        "\n",
        "\n",
        "print(\"Valor P =\",chi2_contingency(tab_data)[1])\n",
        "\n",
        "print(\"Estadistico de prueba \",chi2_contingency(tab_data)[0])\n",
        "print(\"grados de libertad \",chi2_contingency(tab_data)[2])"
      ],
      "metadata": {
        "colab": {
          "base_uri": "https://localhost:8080/"
        },
        "id": "zZca14PHqNwU",
        "outputId": "cf2b04b1-67c2-444d-f8d4-b804f497809e"
      },
      "execution_count": 12,
      "outputs": [
        {
          "output_type": "stream",
          "name": "stdout",
          "text": [
            "Valor P = 0.057964818341161385\n",
            "Estadistico de prueba  7.4842384990841575\n",
            "grados de libertad  3\n"
          ]
        }
      ]
    }
  ]
}