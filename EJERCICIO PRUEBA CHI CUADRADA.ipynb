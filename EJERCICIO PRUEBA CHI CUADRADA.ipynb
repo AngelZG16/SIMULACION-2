{
  "nbformat": 4,
  "nbformat_minor": 0,
  "metadata": {
    "colab": {
      "provenance": [],
      "authorship_tag": "ABX9TyN09cBYHhbUHQ7E2rn/9+s5",
      "include_colab_link": true
    },
    "kernelspec": {
      "name": "python3",
      "display_name": "Python 3"
    },
    "language_info": {
      "name": "python"
    }
  },
  "cells": [
    {
      "cell_type": "markdown",
      "metadata": {
        "id": "view-in-github",
        "colab_type": "text"
      },
      "source": [
        "<a href=\"https://colab.research.google.com/github/AngelZG16/SIMULACION-2/blob/main/EJERCICIO%20PRUEBA%20CHI%20CUADRADA.ipynb\" target=\"_parent\"><img src=\"https://colab.research.google.com/assets/colab-badge.svg\" alt=\"Open In Colab\"/></a>"
      ]
    },
    {
      "cell_type": "code",
      "execution_count": 2,
      "metadata": {
        "colab": {
          "base_uri": "https://localhost:8080/"
        },
        "id": "fdh39_rG-W10",
        "outputId": "012016d9-528c-4639-b7ea-5d46c377b7fe"
      },
      "outputs": [
        {
          "output_type": "stream",
          "name": "stdout",
          "text": [
            "Valor P = 0.057964818341161385\n",
            "Estadistico de prueba  7.4842384990841575\n",
            "grados de libertad  3\n"
          ]
        }
      ],
      "source": [
        "from math import *\n",
        "from scipy.stats import chi2_contingency\n",
        "import numpy as np\n",
        "\n",
        "\n",
        "tab_data = [[203,150,190,305],[195,170,250,400]]\n",
        "\n",
        "\n",
        "print(\"Valor P =\",chi2_contingency(tab_data)[1])\n",
        "\n",
        "print(\"Estadistico de prueba \",chi2_contingency(tab_data)[0])\n",
        "print(\"grados de libertad \",chi2_contingency(tab_data)[2])\n"
      ]
    }
  ]
}